{
 "cells": [
  {
   "cell_type": "markdown",
   "metadata": {
    "application/vnd.databricks.v1+cell": {
     "cellMetadata": {},
     "inputWidgets": {},
     "nuid": "5599a071-8089-4c15-8c76-3e91ae4b6c11",
     "showTitle": false,
     "tableResultSettingsMap": {},
     "title": ""
    }
   },
   "source": [
    "# Cel: Architektura Big Data dla Counter-Strike 2\n",
    "## Zastosowanie: \n",
    "Przetwarzanie danych z gry w czasie rzeczywistym oraz wykrywanie oszustw (cheatów)\n",
    "\n",
    "# Wejście danych \n",
    "## Azure Event Hub\n",
    "Zbiera zdarzenia telemetryczne z gry (pozycja gracza, strzały, ruchy, zmiany stanu) w formacie JSON.\n",
    "Obsługuje miliony zdarzeń na sekundę przy niskiej latencji – idealne do przesyłania danych z sesji graczy w czasie rzeczywistym.\n",
    "\n",
    "## Azure Logic Apps\n",
    "Automatycznie agreguje zgłoszenia podejrzeń oszustw z różnych źródeł (system ticketowy, Discord, Steam, fora).\n",
    "Wykorzystuje bezkodowe workflowy do integracji przez HTTP/API.\n",
    "\n",
    "# Przetwarzanie danych\n",
    "## Azure Stream Analytics\n",
    "Przeprowadza analizę strumieniową i wstępne wykrywanie anomalii.\n",
    "*Przykład: reguły SQL wykrywające nienaturalnie szybkie ruchy lub obroty gracza.*\n",
    "\n",
    "## Azure Functions\n",
    "Reaguje w czasie rzeczywistym na alerty – może m.in. wykluczyć gracza z meczu, wygenerować zgłoszenie do systemu bezpieczeństwa lub zainicjować dalszą analizę.\n",
    "\n",
    "## Azure Machine Learning\n",
    "Wdrożone modele ML (np. do wykrywania aimbotów, wallhacków) oceniają ryzyko oszustwa w locie, bazując na cechach gracza.\n",
    "\n",
    "## Azure Databricks (Apache Spark)\n",
    "Służy do przetwarzania dużych historycznych zbiorów danych – m.in. do ekstrakcji cech (feature engineering) i trenowania modeli ML.\n",
    "\n",
    "# Przechowywanie danych\n",
    "## Azure Data Lake Storage Gen2\n",
    "Magazyn surowych logów i strumieni telemetrycznych.\n",
    "Partycjonowanie wg daty i regionu serwerów zapewnia skalowalność i elastyczny schemat danych.\n",
    "\n",
    "## Azure Cosmos DB\n",
    "Baza dokumentowa przechowująca metadane sesji i wyniki detekcji (JSON):\n",
    "np. timestamp zgłoszenia, wynik modelu, status sesji.\n",
    "\n",
    "## Azure Blob Storage\n",
    "Przechowuje artefakty modeli ML w formatach Pickle/ONNX, gotowe do załadunku w Azure ML.\n",
    "\n",
    "# Wizualizacja i monitoring\n",
    "## Power BI\n",
    "- Interaktywne dashboardy do analizy oszustw:\n",
    "- Liczba wykryć w czasie\n",
    "- Heatmapy lokalizacji logowań\n",
    "- Statystyki skuteczności modeli\n",
    "- Stan infrastruktury\n",
    "\n",
    "## Azure Monitor + Grafana\n",
    "Monitorowanie w czasie rzeczywistym:\n",
    "- Alerty SMS/email przy wykryciu anomalii\n",
    "- Metryki systemowe (np. zużycie CPU, opóźnienia Event Hub)"
   ]
  }
 ],
 "metadata": {
  "application/vnd.databricks.v1+notebook": {
   "computePreferences": null,
   "dashboards": [],
   "environmentMetadata": {
    "base_environment": "",
    "environment_version": "1"
   },
   "inputWidgetPreferences": null,
   "language": "python",
   "notebookMetadata": {
    "pythonIndentUnit": 4
   },
   "notebookName": "lab_6",
   "widgets": {}
  }
 },
 "nbformat": 4,
 "nbformat_minor": 0
}