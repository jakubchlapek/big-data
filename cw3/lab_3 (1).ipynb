{
 "cells": [
  {
   "cell_type": "markdown",
   "metadata": {
    "application/vnd.databricks.v1+cell": {
     "cellMetadata": {
      "byteLimit": 2048000,
      "rowLimit": 10000
     },
     "inputWidgets": {},
     "nuid": "8f1eb294-585d-4cd5-b6f5-7527ae399fdf",
     "showTitle": false,
     "tableResultSettingsMap": {},
     "title": ""
    }
   },
   "source": [
    "Names.csv \n",
    "* Dodaj kolumnę z wartością czasu wykonania notatnika w formacie epoch\n",
    "* Dodaj kolumnę w której wyliczysz wzrost w stopach (feet)\n",
    "* Odpowiedz na pytanie jakie jest najpopularniesze imię?\n",
    "* Dodaj kolumnę i policz wiek aktorów \n",
    "* Usuń kolumny (bio, death_details)\n",
    "* Zmień nazwy kolumn - dodaj kapitalizaję i usuń _\n",
    "* Posortuj dataframe po imieniu rosnąco"
   ]
  },
  {
   "cell_type": "code",
   "execution_count": 0,
   "metadata": {
    "application/vnd.databricks.v1+cell": {
     "cellMetadata": {
      "byteLimit": 2048000,
      "rowLimit": 10000
     },
     "inputWidgets": {},
     "nuid": "75455291-9354-4472-8a2a-154a40aacd39",
     "showTitle": false,
     "tableResultSettingsMap": {},
     "title": ""
    }
   },
   "outputs": [],
   "source": [
    "import pyspark.sql.functions as F\n",
    "from datetime import datetime"
   ]
  },
  {
   "cell_type": "code",
   "execution_count": 0,
   "metadata": {
    "application/vnd.databricks.v1+cell": {
     "cellMetadata": {
      "byteLimit": 2048000,
      "rowLimit": 10000
     },
     "inputWidgets": {},
     "nuid": "682ee105-0a36-455f-9c09-98dfba93ba21",
     "showTitle": false,
     "tableResultSettingsMap": {},
     "title": ""
    }
   },
   "outputs": [],
   "source": [
    "filePath = \"dbfs:/FileStore/tables/Files/names.csv\"\n",
    "namesDf = spark.read.format(\"csv\") \\\n",
    "              .option(\"header\",\"true\") \\\n",
    "              .option(\"inferSchema\",\"true\") \\\n",
    "              .load(filePath)"
   ]
  },
  {
   "cell_type": "code",
   "execution_count": 0,
   "metadata": {
    "application/vnd.databricks.v1+cell": {
     "cellMetadata": {
      "byteLimit": 2048000,
      "rowLimit": 10000
     },
     "inputWidgets": {},
     "nuid": "ea579bce-ef96-4f37-8893-f9ec8fd928c9",
     "showTitle": false,
     "tableResultSettingsMap": {},
     "title": ""
    }
   },
   "outputs": [
    {
     "output_type": "display_data",
     "data": {
      "text/html": [
       "<style scoped>\n",
       "  .table-result-container {\n",
       "    max-height: 300px;\n",
       "    overflow: auto;\n",
       "  }\n",
       "  table, th, td {\n",
       "    border: 1px solid black;\n",
       "    border-collapse: collapse;\n",
       "  }\n",
       "  th, td {\n",
       "    padding: 5px;\n",
       "  }\n",
       "  th {\n",
       "    text-align: left;\n",
       "  }\n",
       "</style><div class='table-result-container'><table class='table-result'><thead style='background-color: white'><tr><th>Imdb Name Id</th><th>Name</th><th>Birth Name</th><th>Height</th><th>Birth Details</th><th>Date Of Birth</th><th>Place Of Birth</th><th>Date Of Death</th><th>Place Of Death</th><th>Reason Of Death</th><th>Spouses String</th><th>Spouses</th><th>Divorces</th><th>Spouses With Children</th><th>Children</th><th>Epoch Time</th><th>Height Feet</th><th>Birth Year</th><th>Death Year</th><th>Age</th></tr></thead><tbody><tr><td>nm1001478</td><td>'Big' LeRoy Mobley</td><td>LeRoy King Mobley III</td><td>193</td><td>April 1, 1973 in Atlantic City, New Jersey, USA</td><td>01.04.1973</td><td>Atlantic City, New Jersey, USA</td><td>null</td><td>null</td><td>null</td><td>null</td><td>0</td><td>0</td><td>0</td><td>0</td><td>1743685147</td><td>6.176</td><td>1973</td><td>null</td><td>52.0</td></tr><tr><td>nm0521811</td><td>'Ducky' Louie</td><td>Lawrence Louie</td><td>null</td><td>July 22, 1931 in Berkeley, California, USA</td><td>22.07.1931</td><td>Berkeley, California, USA</td><td>null</td><td>null</td><td>null</td><td>null</td><td>0</td><td>0</td><td>0</td><td>0</td><td>1743685147</td><td>null</td><td>1931</td><td>null</td><td>94.0</td></tr><tr><td>nm0722372</td><td>'Little Billy' Rhodes</td><td>William H. Rhodes</td><td>null</td><td>February 1, 1895 in Illinois, USA</td><td>1895-02-01</td><td>Illinois, USA</td><td>24.07.1967</td><td>Hollywood, California, USA  </td><td>stroke</td><td>null</td><td>0</td><td>0</td><td>0</td><td>0</td><td>1743685147</td><td>null</td><td>1895</td><td>1967</td><td>72.0</td></tr><tr><td>nm0946148</td><td>'Weird Al' Yankovic</td><td>Alfred Matthew Yankovic</td><td>183</td><td>October 23, 1959 in Downey, California, USA</td><td>23.10.1959</td><td>Downey, California, USA</td><td>null</td><td>null</td><td>null</td><td>Suzanne Krajewski  (10 February 2001 - present) (1 child)</td><td>1</td><td>0</td><td>1</td><td>1</td><td>1743685147</td><td>5.856</td><td>1959</td><td>null</td><td>66.0</td></tr><tr><td>nm1265067</td><td>50 Cent</td><td>Curtis James Jackson III</td><td>183</td><td>July 6, 1975 in Queens, New York City, New York, USA</td><td>06.07.1975</td><td>Queens, New York City, New York, USA</td><td>null</td><td>null</td><td>null</td><td>null</td><td>0</td><td>0</td><td>0</td><td>0</td><td>1743685147</td><td>5.856</td><td>1975</td><td>null</td><td>50.0</td></tr><tr><td>nm0553436</td><td>A Martinez</td><td>Adolph Larrue Martinez III</td><td>175</td><td>September 27, 1948 in Glendale, California, USA</td><td>27.09.1948</td><td>Glendale, California, USA</td><td>null</td><td>null</td><td>null</td><td>Leslie Bryans  (17 July 1982 - present) (3 children)Mare Winningham  (1981 - 29 January 1982) (divorced)</td><td>2</td><td>1</td><td>1</td><td>3</td><td>1743685147</td><td>5.6000000000000005</td><td>1948</td><td>null</td><td>77.0</td></tr><tr><td>nm1100197</td><td>A. Baldwin Sloane</td><td>A. Baldwin Sloane</td><td>null</td><td>August 28, 1872 in Baltimore, Maryland, USA</td><td>1872-08-28</td><td>Baltimore, Maryland, USA</td><td>21.02.1925</td><td>Red Bank, New Jersey, USA</td><td>null</td><td>null</td><td>0</td><td>0</td><td>0</td><td>0</td><td>1743685147</td><td>null</td><td>1872</td><td>1925</td><td>53.0</td></tr><tr><td>nm0080406</td><td>A. Bhimsingh</td><td>A. Bhimsingh</td><td>null</td><td>July 15, 1924 in Tirupati, Andhra Pradesh, India</td><td>15.07.1924</td><td>Tirupati, Andhra Pradesh, India</td><td>16.01.1978</td><td>Madras, Tamil Nadu, India</td><td>null</td><td>Sukumari  (? - 16 January 1978) (his death) (1 child)</td><td>1</td><td>0</td><td>1</td><td>1</td><td>1743685147</td><td>null</td><td>1924</td><td>1978</td><td>54.0</td></tr><tr><td>nm0770661</td><td>A. Hans Scheirl</td><td>Angela Hans Schierl</td><td>null</td><td>1956 in Salzburg, Austria</td><td>1956 in Salzburg, Austria</td><td>Salzburg, Austria</td><td>null</td><td>null</td><td>null</td><td>null</td><td>0</td><td>0</td><td>0</td><td>0</td><td>1743685147</td><td>null</td><td>1956</td><td>null</td><td>69.0</td></tr><tr><td>nm0072200</td><td>A. Jonathan Benny</td><td>A. Jonathan Benny</td><td>null</td><td>November 4, 1970</td><td>04.11.1970</td><td>null</td><td>null</td><td>null</td><td>null</td><td>null</td><td>0</td><td>0</td><td>0</td><td>0</td><td>1743685147</td><td>null</td><td>1970</td><td>null</td><td>55.0</td></tr></tbody></table></div>"
      ]
     },
     "metadata": {
      "application/vnd.databricks.v1+output": {
       "addedWidgets": {},
       "aggData": [],
       "aggError": "",
       "aggOverflow": false,
       "aggSchema": [],
       "aggSeriesLimitReached": false,
       "aggType": "",
       "arguments": {},
       "columnCustomDisplayInfos": {},
       "data": [
        [
         "nm1001478",
         "'Big' LeRoy Mobley",
         "LeRoy King Mobley III",
         193,
         "April 1, 1973 in Atlantic City, New Jersey, USA",
         "01.04.1973",
         "Atlantic City, New Jersey, USA",
         null,
         null,
         null,
         null,
         0,
         0,
         0,
         0,
         1743685147,
         6.176,
         "1973",
         null,
         52.0
        ],
        [
         "nm0521811",
         "'Ducky' Louie",
         "Lawrence Louie",
         null,
         "July 22, 1931 in Berkeley, California, USA",
         "22.07.1931",
         "Berkeley, California, USA",
         null,
         null,
         null,
         null,
         0,
         0,
         0,
         0,
         1743685147,
         null,
         "1931",
         null,
         94.0
        ],
        [
         "nm0722372",
         "'Little Billy' Rhodes",
         "William H. Rhodes",
         null,
         "February 1, 1895 in Illinois, USA",
         "1895-02-01",
         "Illinois, USA",
         "24.07.1967",
         "Hollywood, California, USA  ",
         "stroke",
         null,
         0,
         0,
         0,
         0,
         1743685147,
         null,
         "1895",
         "1967",
         72.0
        ],
        [
         "nm0946148",
         "'Weird Al' Yankovic",
         "Alfred Matthew Yankovic",
         183,
         "October 23, 1959 in Downey, California, USA",
         "23.10.1959",
         "Downey, California, USA",
         null,
         null,
         null,
         "Suzanne Krajewski  (10 February 2001 - present) (1 child)",
         1,
         0,
         1,
         1,
         1743685147,
         5.856,
         "1959",
         null,
         66.0
        ],
        [
         "nm1265067",
         "50 Cent",
         "Curtis James Jackson III",
         183,
         "July 6, 1975 in Queens, New York City, New York, USA",
         "06.07.1975",
         "Queens, New York City, New York, USA",
         null,
         null,
         null,
         null,
         0,
         0,
         0,
         0,
         1743685147,
         5.856,
         "1975",
         null,
         50.0
        ],
        [
         "nm0553436",
         "A Martinez",
         "Adolph Larrue Martinez III",
         175,
         "September 27, 1948 in Glendale, California, USA",
         "27.09.1948",
         "Glendale, California, USA",
         null,
         null,
         null,
         "Leslie Bryans  (17 July 1982 - present) (3 children)Mare Winningham  (1981 - 29 January 1982) (divorced)",
         2,
         1,
         1,
         3,
         1743685147,
         5.6000000000000005,
         "1948",
         null,
         77.0
        ],
        [
         "nm1100197",
         "A. Baldwin Sloane",
         "A. Baldwin Sloane",
         null,
         "August 28, 1872 in Baltimore, Maryland, USA",
         "1872-08-28",
         "Baltimore, Maryland, USA",
         "21.02.1925",
         "Red Bank, New Jersey, USA",
         null,
         null,
         0,
         0,
         0,
         0,
         1743685147,
         null,
         "1872",
         "1925",
         53.0
        ],
        [
         "nm0080406",
         "A. Bhimsingh",
         "A. Bhimsingh",
         null,
         "July 15, 1924 in Tirupati, Andhra Pradesh, India",
         "15.07.1924",
         "Tirupati, Andhra Pradesh, India",
         "16.01.1978",
         "Madras, Tamil Nadu, India",
         null,
         "Sukumari  (? - 16 January 1978) (his death) (1 child)",
         1,
         0,
         1,
         1,
         1743685147,
         null,
         "1924",
         "1978",
         54.0
        ],
        [
         "nm0770661",
         "A. Hans Scheirl",
         "Angela Hans Schierl",
         null,
         "1956 in Salzburg, Austria",
         "1956 in Salzburg, Austria",
         "Salzburg, Austria",
         null,
         null,
         null,
         null,
         0,
         0,
         0,
         0,
         1743685147,
         null,
         "1956",
         null,
         69.0
        ],
        [
         "nm0072200",
         "A. Jonathan Benny",
         "A. Jonathan Benny",
         null,
         "November 4, 1970",
         "04.11.1970",
         null,
         null,
         null,
         null,
         null,
         0,
         0,
         0,
         0,
         1743685147,
         null,
         "1970",
         null,
         55.0
        ]
       ],
       "datasetInfos": [],
       "dbfsResultPath": null,
       "isJsonSchema": true,
       "metadata": {},
       "overflow": false,
       "plotOptions": {
        "customPlotOptions": {},
        "displayType": "table",
        "pivotAggregation": null,
        "pivotColumns": null,
        "xColumns": null,
        "yColumns": null
       },
       "removedWidgets": [],
       "schema": [
        {
         "metadata": "{}",
         "name": "Imdb Name Id",
         "type": "\"string\""
        },
        {
         "metadata": "{}",
         "name": "Name",
         "type": "\"string\""
        },
        {
         "metadata": "{}",
         "name": "Birth Name",
         "type": "\"string\""
        },
        {
         "metadata": "{}",
         "name": "Height",
         "type": "\"long\""
        },
        {
         "metadata": "{}",
         "name": "Birth Details",
         "type": "\"string\""
        },
        {
         "metadata": "{}",
         "name": "Date Of Birth",
         "type": "\"string\""
        },
        {
         "metadata": "{}",
         "name": "Place Of Birth",
         "type": "\"string\""
        },
        {
         "metadata": "{}",
         "name": "Date Of Death",
         "type": "\"string\""
        },
        {
         "metadata": "{}",
         "name": "Place Of Death",
         "type": "\"string\""
        },
        {
         "metadata": "{}",
         "name": "Reason Of Death",
         "type": "\"string\""
        },
        {
         "metadata": "{}",
         "name": "Spouses String",
         "type": "\"string\""
        },
        {
         "metadata": "{}",
         "name": "Spouses",
         "type": "\"long\""
        },
        {
         "metadata": "{}",
         "name": "Divorces",
         "type": "\"long\""
        },
        {
         "metadata": "{}",
         "name": "Spouses With Children",
         "type": "\"long\""
        },
        {
         "metadata": "{}",
         "name": "Children",
         "type": "\"long\""
        },
        {
         "metadata": "{}",
         "name": "Epoch Time",
         "type": "\"long\""
        },
        {
         "metadata": "{}",
         "name": "Height Feet",
         "type": "\"double\""
        },
        {
         "metadata": "{}",
         "name": "Birth Year",
         "type": "\"string\""
        },
        {
         "metadata": "{}",
         "name": "Death Year",
         "type": "\"string\""
        },
        {
         "metadata": "{}",
         "name": "Age",
         "type": "\"double\""
        }
       ],
       "type": "table"
      }
     },
     "output_type": "display_data"
    }
   ],
   "source": [
    "most_popular_name = namesDf \\\n",
    "  .withColumn('first_name', F.split(F.col(\"name\"), \" \").getItem(0)) \\\n",
    "  .groupBy(\"first_name\") \\\n",
    "  .count() \\\n",
    "  .orderBy(F.col(\"count\").desc()) \\\n",
    "  .first()[0]\n",
    "\n",
    "\n",
    "transformedNamesDf = namesDf \\\n",
    "    .withColumn(\"epoch_time\", F.unix_timestamp(F.current_timestamp())) \\\n",
    "    .withColumn(\"height_feet\", F.col(\"height\") * 0.032) \\\n",
    "    .withColumn(\"birth_year\", F.regexp_extract(F.col(\"date_of_birth\"), r\"(\\d{4})\", 1)) \\\n",
    "    .withColumn(\"death_year\", F.regexp_extract(F.col(\"date_of_death\"), r\"(\\d{4})\", 1)) \\\n",
    "    .withColumn(\"age\", F.col(\"death_year\") - F.col(\"birth_year\")) \\\n",
    "    .withColumn(\n",
    "        \"age\",\n",
    "        F.when((F.col(\"death_year\").isNull()),\n",
    "              F.year(F.current_date()) - F.year(F.col(\"birth_year\")))\n",
    "        .otherwise(F.col(\"age\"))\n",
    "    ) \\\n",
    "    .drop(\"bio\", \"death_details\") \\\n",
    "    .orderBy(F.col(\"name\").asc())\n",
    "\n",
    "new_columns = [col.replace(\"_\", \" \").title() for col in transformedNamesDf.columns]\n",
    "transformedNamesDf = transformedNamesDf.toDF(*new_columns)\n",
    "\n",
    "display(transformedNamesDf.take(10))"
   ]
  },
  {
   "cell_type": "markdown",
   "metadata": {
    "application/vnd.databricks.v1+cell": {
     "cellMetadata": {
      "byteLimit": 2048000,
      "rowLimit": 10000
     },
     "inputWidgets": {},
     "nuid": "f86d9d14-5103-4d4a-8df2-cec361db347d",
     "showTitle": false,
     "tableResultSettingsMap": {},
     "title": ""
    }
   },
   "source": [
    "Movies.csv\n",
    "* Dodaj kolumnę z wartością czasu wykonania notatnika w formacie epoch\n",
    "* Dodaj kolumnę która wylicza ile lat upłynęło od publikacji filmu\n",
    "* Dodaj kolumnę która pokaże budżet filmu jako wartość numeryczną, (trzeba usunac znaki walut)\n",
    "* Usuń wiersze z dataframe gdzie wartości są null"
   ]
  },
  {
   "cell_type": "code",
   "execution_count": 0,
   "metadata": {
    "application/vnd.databricks.v1+cell": {
     "cellMetadata": {
      "byteLimit": 2048000,
      "rowLimit": 10000
     },
     "inputWidgets": {},
     "nuid": "dc238ac0-9f22-4685-b2d2-1a074e813334",
     "showTitle": false,
     "tableResultSettingsMap": {},
     "title": ""
    }
   },
   "outputs": [],
   "source": [
    "filePath = \"dbfs:/FileStore/tables/Files/movies.csv\"\n",
    "moviesDf = spark.read.format(\"csv\") \\\n",
    "              .option(\"header\",\"true\") \\\n",
    "              .option(\"inferSchema\",\"true\") \\\n",
    "              .load(filePath)\n",
    "\n"
   ]
  },
  {
   "cell_type": "code",
   "execution_count": 0,
   "metadata": {
    "application/vnd.databricks.v1+cell": {
     "cellMetadata": {
      "byteLimit": 2048000,
      "rowLimit": 10000
     },
     "inputWidgets": {},
     "nuid": "1666f63a-35a4-4774-84ae-dc6150171b63",
     "showTitle": false,
     "tableResultSettingsMap": {},
     "title": ""
    }
   },
   "outputs": [
    {
     "output_type": "display_data",
     "data": {
      "text/html": [
       "<style scoped>\n",
       "  .table-result-container {\n",
       "    max-height: 300px;\n",
       "    overflow: auto;\n",
       "  }\n",
       "  table, th, td {\n",
       "    border: 1px solid black;\n",
       "    border-collapse: collapse;\n",
       "  }\n",
       "  th, td {\n",
       "    padding: 5px;\n",
       "  }\n",
       "  th {\n",
       "    text-align: left;\n",
       "  }\n",
       "</style><div class='table-result-container'><table class='table-result'><thead style='background-color: white'><tr><th>imdb_title_id</th><th>title</th><th>original_title</th><th>year</th><th>date_published</th><th>genre</th><th>duration</th><th>country</th><th>language</th><th>director</th><th>writer</th><th>production_company</th><th>actors</th><th>description</th><th>avg_vote</th><th>votes</th><th>budget</th><th>usa_gross_income</th><th>worlwide_gross_income</th><th>metascore</th><th>reviews_from_users</th><th>reviews_from_critics</th><th>epoch_time</th><th>years_since_release</th><th>budget_numeric</th></tr></thead><tbody><tr><td>tt0071615</td><td>La montagna sacra</td><td>La montaña sagrada</td><td>1973</td><td>1975</td><td>Adventure, Drama, Fantasy</td><td>114</td><td>Mexico</td><td>Spanish, English</td><td>Alejandro Jodorowsky</td><td>Alejandro Jodorowsky</td><td>ABKCO Films</td><td>Alejandro Jodorowsky, Horacio Salinas, Zamira Saunders, Juan Ferrara, Adriana Page, Burt Kleiner, Valerie Jodorowsky, Nicky Nichols, Richard Rutowski, Luis Lomelí, Ana De Sade, Chucho-Chucho, Letícia Robles, Connie De La Mora, David Kapralik</td><td>In a corrupt, greed-fueled world, a powerful alchemist leads a Christ-like character and seven materialistic figures to the Holy Mountain, where they hope to achieve enlightenment.</td><td>07.wrz</td><td>35412</td><td>$ 750000</td><td>$ 61001</td><td>$ 104160</td><td>76.0</td><td>160.0</td><td>100.0</td><td>1743685446</td><td>50.0</td><td>750000.0</td></tr><tr><td>tt0075265</td><td>È nata una stella</td><td>A Star Is Born</td><td>1976</td><td>1977</td><td>Drama, Music, Romance</td><td>139</td><td>USA</td><td>English</td><td>Frank Pierson</td><td>John Gregory Dunne, Joan Didion</td><td>Barwood Films</td><td>Barbra Streisand, Kris Kristofferson, Gary Busey, Oliver Clark, Venetta Fields, Clydie King, Marta Heflin, M.G. Kelly, Sally Kirkland, Joanne Linville, Uncle Rudy, Paul Mazursky, Stephen Bruton, Sammy Lee Creason, Cleve Dupin</td><td>A has-been rock star falls in love with a young, up-and-coming songstress.</td><td>06.lut</td><td>9699</td><td>$ 6000000</td><td>$ 80000000</td><td>$ 80000000</td><td>59.0</td><td>98.0</td><td>47.0</td><td>1743685446</td><td>48.0</td><td>6000000.0</td></tr><tr><td>tt0077714</td><td>1964: Allarme a N.Y. arrivano i Beatles!</td><td>I Wanna Hold Your Hand</td><td>1978</td><td>1983</td><td>Comedy, Music, Romance</td><td>104</td><td>USA</td><td>English</td><td>Robert Zemeckis</td><td>Robert Zemeckis, Bob Gale</td><td>Amblin Entertainment</td><td>Nancy Allen, Bobby Di Cicco, Marc McClure, Susan Kendall Newman, Theresa Saldana, Wendie Jo Sperber, Eddie Deezen, Christian Juttner, Will Jordan, Read Morgan, Claude Earl Jones, James Houghton, Michael Hewitson, Dick Miller, Vito Carenzo</td><td>In 1964, six teenagers from New Jersey run off to see</td><td>06.wrz</td><td>4282</td><td>$ 2700000</td><td>$ 1944682</td><td>$ 1944682</td><td>64.0</td><td>43.0</td><td>41.0</td><td>1743685446</td><td>42.0</td><td>2700000.0</td></tr><tr><td>tt0087344</td><td>Godzilla 1985</td><td>Godzilla 1985</td><td>1985</td><td>1985</td><td>Action, Horror, Sci-Fi</td><td>82</td><td>Japan</td><td>Japanese, Russian, English</td><td>Koji Hashimoto, R.J. Kizer</td><td>Reuben Bercovitch, Fred Dekker</td><td>Toho Company</td><td>Raymond Burr, Ken Tanaka, Yasuko Sawaguchi, Yôsuke Natsuki, Shin Takuma, Keiju Kobayashi, Eitarô Ozawa, Taketoshi Naitô, Mizuho Suzuki, Junkichi Orimoto, Hiroshi Koizumi, Kei Satô, Takenori Emoto, Sho Hashimoto, Nobuo Kaneko</td><td>Thirty years after the original monster's rampage, a new Godzilla emerges and attacks Japan.</td><td>06.mar</td><td>5874</td><td>$ 2000000</td><td>$ 4116395</td><td>$ 4116395</td><td>31.0</td><td>69.0</td><td>61.0</td><td>1743685446</td><td>40.0</td><td>2000000.0</td></tr><tr><td>tt0097523</td><td>Tesoro, mi si sono ristretti i ragazzi</td><td>Honey, I Shrunk the Kids</td><td>1989</td><td>1989</td><td>Adventure, Comedy, Family</td><td>93</td><td>USA, Mexico</td><td>English</td><td>Joe Johnston</td><td>Stuart Gordon, Brian Yuzna</td><td>Walt Disney Pictures</td><td>Rick Moranis, Matt Frewer, Marcia Strassman, Kristine Sutherland, Thomas Wilson Brown, Jared Rushton, Amy O'Neill, Robert Oliveri, Carl Steven, Mark L. Taylor, Kimmy Robertson, Lou Cutell, Laura Waterbury, Trevor Galtress, Martin Aylett</td><td>The scientist father of a teenage girl and boy accidentally shrinks his and two other neighborhood teens to the size of insects. Now the teens must fight diminutive dangers as the father searches for them.</td><td>06.kwi</td><td>139632</td><td>$ 18000000</td><td>$ 130724172</td><td>$ 222724172</td><td>63.0</td><td>95.0</td><td>42.0</td><td>1743685446</td><td>36.0</td><td>1.8E7</td></tr><tr><td>tt0103247</td><td>Zanna Bianca - Un piccolo grande lupo</td><td>White Fang</td><td>1991</td><td>1991</td><td>Adventure, Drama</td><td>107</td><td>USA</td><td>English</td><td>Randal Kleiser</td><td>Jack London, Jeanne Rosenberg</td><td>Walt Disney Pictures</td><td>Jed, Klaus Maria Brandauer, Ethan Hawke, Seymour Cassel, Susan Hogan, James Remar, Bill Moseley, Clint Youngreen, Pius Savage, Aaron Hotch, Charles Jimmie Sr., Clifford Fossman, Irvin Sogge, Tom Fallon, Dick Mackey</td><td>Jack London's classic adventure story about the friendship developed between a Yukon gold hunter and the mixed dog-wolf he rescues from the hands of a man who mistreats him.</td><td>06.lip</td><td>19198</td><td>$ 14000000</td><td>$ 34793160</td><td>$ 34793160</td><td>62.0</td><td>37.0</td><td>13.0</td><td>1743685446</td><td>34.0</td><td>1.4E7</td></tr><tr><td>tt0120176</td><td>Il prigioniero</td><td>The Spanish Prisoner</td><td>1997</td><td>1999</td><td>Drama, Mystery, Thriller</td><td>110</td><td>USA</td><td>English</td><td>David Mamet</td><td>David Mamet</td><td>Jasmine Productions Inc.</td><td>Campbell Scott, Ricky Jay, Rebecca Pidgeon, Richard L. Friedman, Ben Gazzara, Jerry Graff, G. Roy Levin, Hilary Hinckle, David Pittu, Steve Martin, Christopher Kaldor, Felicity Huffman, Gary McDonald, Mike Robinson, Olivia Tecosky</td><td>An employee of a corporation with a lucrative secret process is tempted to betray it. But there's more to it than that.</td><td>07.sty</td><td>21543</td><td>$ 10000000</td><td>$ 9593903</td><td>$ 9593903</td><td>70.0</td><td>271.0</td><td>104.0</td><td>1743685446</td><td>26.0</td><td>1.0E7</td></tr><tr><td>tt0366444</td><td>Fighting Tommy Riley</td><td>Fighting Tommy Riley</td><td>2004</td><td>2006</td><td>Drama, Mystery, Romance</td><td>109</td><td>USA</td><td>English, Spanish</td><td>Eddie O'Flaherty</td><td>J.P. Davis</td><td>Visualeyes Productions</td><td>Eddie Jones, J.P. Davis, Christina Chambers, Diane Tayler, Paul Raci, Don Wallace, Scot Belsky, Emanuel Zacarias, Carlos Palomino, Michael Bentt, Winston Bailey, Pepper Roach, Eric Brown, Charles 'Chillie' Wilson, Frank McGonagle</td><td>An aging trainer and a young fighter, both in need of a second chance, team-up to overcome the demons of their past...and chase the dreams of their future.</td><td>06.maj</td><td>772</td><td>$ 300000</td><td>$ 10514</td><td>$ 10514</td><td>53.0</td><td>23.0</td><td>12.0</td><td>1743685446</td><td>19.0</td><td>300000.0</td></tr><tr><td>tt0439544</td><td>Dirty</td><td>Dirty</td><td>2005</td><td>2005</td><td>Crime, Drama, Thriller</td><td>97</td><td>USA</td><td>English, Spanish</td><td>Chris Fisher</td><td>Chris Fisher, Gil Reavill</td><td>2710 Inc.</td><td>Frank Alvarez, Clifton Collins Jr., Brittany Daniel, Keith David, Roberto 'Lil Rob' Flores, Aimee Garcia, Cesar Garcia, Nicholas Gonzalez, Cuba Gooding Jr., Kevin Grevioux, Wood Harris, Cole Hauser, Wyclef Jean, Pat Healy, Tory Kittles</td><td>Two gangbangers-turned-cops try and cover up a scandal within the LAPD.</td><td>05.cze</td><td>5225</td><td>$ 3000000</td><td>$ 274245</td><td>$ 274245</td><td>37.0</td><td>45.0</td><td>20.0</td><td>1743685446</td><td>20.0</td><td>3000000.0</td></tr><tr><td>tt1194263</td><td>Get Low</td><td>Get Low</td><td>2009</td><td>2014</td><td>Drama, Mystery</td><td>103</td><td>USA, Germany, Poland</td><td>English</td><td>Aaron Schneider</td><td>Chris Provenzano, C. Gaby Mitchell</td><td>K5 International</td><td>Robert Duvall, Sissy Spacek, Bill Murray, Lucas Black, Gerald McRaney, Bill Cobbs, Scott Cooper, Lori Beth Sikes, Linds Edwards, Andrea Powell, Chandler Riggs, Danny Vinson, Blerim Destani, Tomasz Karolak, Andy Stahl</td><td>A movie spun out of equal parts folk tale, fable and real-life legend about the mysterious, 1930s Tennessee hermit who famously threw his own rollicking funeral party... while he was still alive.</td><td>7.0</td><td>21904</td><td>$ 7000000</td><td>$ 9176933</td><td>$ 10522511</td><td>77.0</td><td>108.0</td><td>163.0</td><td>1743685446</td><td>11.0</td><td>7000000.0</td></tr></tbody></table></div>"
      ]
     },
     "metadata": {
      "application/vnd.databricks.v1+output": {
       "addedWidgets": {},
       "aggData": [],
       "aggError": "",
       "aggOverflow": false,
       "aggSchema": [],
       "aggSeriesLimitReached": false,
       "aggType": "",
       "arguments": {},
       "columnCustomDisplayInfos": {},
       "data": [
        [
         "tt0071615",
         "La montagna sacra",
         "La montaña sagrada",
         "1973",
         "1975",
         "Adventure, Drama, Fantasy",
         114,
         "Mexico",
         "Spanish, English",
         "Alejandro Jodorowsky",
         "Alejandro Jodorowsky",
         "ABKCO Films",
         "Alejandro Jodorowsky, Horacio Salinas, Zamira Saunders, Juan Ferrara, Adriana Page, Burt Kleiner, Valerie Jodorowsky, Nicky Nichols, Richard Rutowski, Luis Lomelí, Ana De Sade, Chucho-Chucho, Letícia Robles, Connie De La Mora, David Kapralik",
         "In a corrupt, greed-fueled world, a powerful alchemist leads a Christ-like character and seven materialistic figures to the Holy Mountain, where they hope to achieve enlightenment.",
         "07.wrz",
         35412,
         "$ 750000",
         "$ 61001",
         "$ 104160",
         76.0,
         160.0,
         100.0,
         1743685446,
         50.0,
         750000.0
        ],
        [
         "tt0075265",
         "È nata una stella",
         "A Star Is Born",
         "1976",
         "1977",
         "Drama, Music, Romance",
         139,
         "USA",
         "English",
         "Frank Pierson",
         "John Gregory Dunne, Joan Didion",
         "Barwood Films",
         "Barbra Streisand, Kris Kristofferson, Gary Busey, Oliver Clark, Venetta Fields, Clydie King, Marta Heflin, M.G. Kelly, Sally Kirkland, Joanne Linville, Uncle Rudy, Paul Mazursky, Stephen Bruton, Sammy Lee Creason, Cleve Dupin",
         "A has-been rock star falls in love with a young, up-and-coming songstress.",
         "06.lut",
         9699,
         "$ 6000000",
         "$ 80000000",
         "$ 80000000",
         59.0,
         98.0,
         47.0,
         1743685446,
         48.0,
         6000000.0
        ],
        [
         "tt0077714",
         "1964: Allarme a N.Y. arrivano i Beatles!",
         "I Wanna Hold Your Hand",
         "1978",
         "1983",
         "Comedy, Music, Romance",
         104,
         "USA",
         "English",
         "Robert Zemeckis",
         "Robert Zemeckis, Bob Gale",
         "Amblin Entertainment",
         "Nancy Allen, Bobby Di Cicco, Marc McClure, Susan Kendall Newman, Theresa Saldana, Wendie Jo Sperber, Eddie Deezen, Christian Juttner, Will Jordan, Read Morgan, Claude Earl Jones, James Houghton, Michael Hewitson, Dick Miller, Vito Carenzo",
         "In 1964, six teenagers from New Jersey run off to see",
         "06.wrz",
         4282,
         "$ 2700000",
         "$ 1944682",
         "$ 1944682",
         64.0,
         43.0,
         41.0,
         1743685446,
         42.0,
         2700000.0
        ],
        [
         "tt0087344",
         "Godzilla 1985",
         "Godzilla 1985",
         "1985",
         "1985",
         "Action, Horror, Sci-Fi",
         82,
         "Japan",
         "Japanese, Russian, English",
         "Koji Hashimoto, R.J. Kizer",
         "Reuben Bercovitch, Fred Dekker",
         "Toho Company",
         "Raymond Burr, Ken Tanaka, Yasuko Sawaguchi, Yôsuke Natsuki, Shin Takuma, Keiju Kobayashi, Eitarô Ozawa, Taketoshi Naitô, Mizuho Suzuki, Junkichi Orimoto, Hiroshi Koizumi, Kei Satô, Takenori Emoto, Sho Hashimoto, Nobuo Kaneko",
         "Thirty years after the original monster's rampage, a new Godzilla emerges and attacks Japan.",
         "06.mar",
         5874,
         "$ 2000000",
         "$ 4116395",
         "$ 4116395",
         31.0,
         69.0,
         61.0,
         1743685446,
         40.0,
         2000000.0
        ],
        [
         "tt0097523",
         "Tesoro, mi si sono ristretti i ragazzi",
         "Honey, I Shrunk the Kids",
         "1989",
         "1989",
         "Adventure, Comedy, Family",
         93,
         "USA, Mexico",
         "English",
         "Joe Johnston",
         "Stuart Gordon, Brian Yuzna",
         "Walt Disney Pictures",
         "Rick Moranis, Matt Frewer, Marcia Strassman, Kristine Sutherland, Thomas Wilson Brown, Jared Rushton, Amy O'Neill, Robert Oliveri, Carl Steven, Mark L. Taylor, Kimmy Robertson, Lou Cutell, Laura Waterbury, Trevor Galtress, Martin Aylett",
         "The scientist father of a teenage girl and boy accidentally shrinks his and two other neighborhood teens to the size of insects. Now the teens must fight diminutive dangers as the father searches for them.",
         "06.kwi",
         139632,
         "$ 18000000",
         "$ 130724172",
         "$ 222724172",
         63.0,
         95.0,
         42.0,
         1743685446,
         36.0,
         1.8E7
        ],
        [
         "tt0103247",
         "Zanna Bianca - Un piccolo grande lupo",
         "White Fang",
         "1991",
         "1991",
         "Adventure, Drama",
         107,
         "USA",
         "English",
         "Randal Kleiser",
         "Jack London, Jeanne Rosenberg",
         "Walt Disney Pictures",
         "Jed, Klaus Maria Brandauer, Ethan Hawke, Seymour Cassel, Susan Hogan, James Remar, Bill Moseley, Clint Youngreen, Pius Savage, Aaron Hotch, Charles Jimmie Sr., Clifford Fossman, Irvin Sogge, Tom Fallon, Dick Mackey",
         "Jack London's classic adventure story about the friendship developed between a Yukon gold hunter and the mixed dog-wolf he rescues from the hands of a man who mistreats him.",
         "06.lip",
         19198,
         "$ 14000000",
         "$ 34793160",
         "$ 34793160",
         62.0,
         37.0,
         13.0,
         1743685446,
         34.0,
         1.4E7
        ],
        [
         "tt0120176",
         "Il prigioniero",
         "The Spanish Prisoner",
         "1997",
         "1999",
         "Drama, Mystery, Thriller",
         110,
         "USA",
         "English",
         "David Mamet",
         "David Mamet",
         "Jasmine Productions Inc.",
         "Campbell Scott, Ricky Jay, Rebecca Pidgeon, Richard L. Friedman, Ben Gazzara, Jerry Graff, G. Roy Levin, Hilary Hinckle, David Pittu, Steve Martin, Christopher Kaldor, Felicity Huffman, Gary McDonald, Mike Robinson, Olivia Tecosky",
         "An employee of a corporation with a lucrative secret process is tempted to betray it. But there's more to it than that.",
         "07.sty",
         21543,
         "$ 10000000",
         "$ 9593903",
         "$ 9593903",
         70.0,
         271.0,
         104.0,
         1743685446,
         26.0,
         1.0E7
        ],
        [
         "tt0366444",
         "Fighting Tommy Riley",
         "Fighting Tommy Riley",
         "2004",
         "2006",
         "Drama, Mystery, Romance",
         109,
         "USA",
         "English, Spanish",
         "Eddie O'Flaherty",
         "J.P. Davis",
         "Visualeyes Productions",
         "Eddie Jones, J.P. Davis, Christina Chambers, Diane Tayler, Paul Raci, Don Wallace, Scot Belsky, Emanuel Zacarias, Carlos Palomino, Michael Bentt, Winston Bailey, Pepper Roach, Eric Brown, Charles 'Chillie' Wilson, Frank McGonagle",
         "An aging trainer and a young fighter, both in need of a second chance, team-up to overcome the demons of their past...and chase the dreams of their future.",
         "06.maj",
         772,
         "$ 300000",
         "$ 10514",
         "$ 10514",
         53.0,
         23.0,
         12.0,
         1743685446,
         19.0,
         300000.0
        ],
        [
         "tt0439544",
         "Dirty",
         "Dirty",
         "2005",
         "2005",
         "Crime, Drama, Thriller",
         97,
         "USA",
         "English, Spanish",
         "Chris Fisher",
         "Chris Fisher, Gil Reavill",
         "2710 Inc.",
         "Frank Alvarez, Clifton Collins Jr., Brittany Daniel, Keith David, Roberto 'Lil Rob' Flores, Aimee Garcia, Cesar Garcia, Nicholas Gonzalez, Cuba Gooding Jr., Kevin Grevioux, Wood Harris, Cole Hauser, Wyclef Jean, Pat Healy, Tory Kittles",
         "Two gangbangers-turned-cops try and cover up a scandal within the LAPD.",
         "05.cze",
         5225,
         "$ 3000000",
         "$ 274245",
         "$ 274245",
         37.0,
         45.0,
         20.0,
         1743685446,
         20.0,
         3000000.0
        ],
        [
         "tt1194263",
         "Get Low",
         "Get Low",
         "2009",
         "2014",
         "Drama, Mystery",
         103,
         "USA, Germany, Poland",
         "English",
         "Aaron Schneider",
         "Chris Provenzano, C. Gaby Mitchell",
         "K5 International",
         "Robert Duvall, Sissy Spacek, Bill Murray, Lucas Black, Gerald McRaney, Bill Cobbs, Scott Cooper, Lori Beth Sikes, Linds Edwards, Andrea Powell, Chandler Riggs, Danny Vinson, Blerim Destani, Tomasz Karolak, Andy Stahl",
         "A movie spun out of equal parts folk tale, fable and real-life legend about the mysterious, 1930s Tennessee hermit who famously threw his own rollicking funeral party... while he was still alive.",
         "7.0",
         21904,
         "$ 7000000",
         "$ 9176933",
         "$ 10522511",
         77.0,
         108.0,
         163.0,
         1743685446,
         11.0,
         7000000.0
        ]
       ],
       "datasetInfos": [],
       "dbfsResultPath": null,
       "isJsonSchema": true,
       "metadata": {},
       "overflow": false,
       "plotOptions": {
        "customPlotOptions": {},
        "displayType": "table",
        "pivotAggregation": null,
        "pivotColumns": null,
        "xColumns": null,
        "yColumns": null
       },
       "removedWidgets": [],
       "schema": [
        {
         "metadata": "{}",
         "name": "imdb_title_id",
         "type": "\"string\""
        },
        {
         "metadata": "{}",
         "name": "title",
         "type": "\"string\""
        },
        {
         "metadata": "{}",
         "name": "original_title",
         "type": "\"string\""
        },
        {
         "metadata": "{}",
         "name": "year",
         "type": "\"string\""
        },
        {
         "metadata": "{}",
         "name": "date_published",
         "type": "\"string\""
        },
        {
         "metadata": "{}",
         "name": "genre",
         "type": "\"string\""
        },
        {
         "metadata": "{}",
         "name": "duration",
         "type": "\"long\""
        },
        {
         "metadata": "{}",
         "name": "country",
         "type": "\"string\""
        },
        {
         "metadata": "{}",
         "name": "language",
         "type": "\"string\""
        },
        {
         "metadata": "{}",
         "name": "director",
         "type": "\"string\""
        },
        {
         "metadata": "{}",
         "name": "writer",
         "type": "\"string\""
        },
        {
         "metadata": "{}",
         "name": "production_company",
         "type": "\"string\""
        },
        {
         "metadata": "{}",
         "name": "actors",
         "type": "\"string\""
        },
        {
         "metadata": "{}",
         "name": "description",
         "type": "\"string\""
        },
        {
         "metadata": "{}",
         "name": "avg_vote",
         "type": "\"string\""
        },
        {
         "metadata": "{}",
         "name": "votes",
         "type": "\"long\""
        },
        {
         "metadata": "{}",
         "name": "budget",
         "type": "\"string\""
        },
        {
         "metadata": "{}",
         "name": "usa_gross_income",
         "type": "\"string\""
        },
        {
         "metadata": "{}",
         "name": "worlwide_gross_income",
         "type": "\"string\""
        },
        {
         "metadata": "{}",
         "name": "metascore",
         "type": "\"double\""
        },
        {
         "metadata": "{}",
         "name": "reviews_from_users",
         "type": "\"double\""
        },
        {
         "metadata": "{}",
         "name": "reviews_from_critics",
         "type": "\"double\""
        },
        {
         "metadata": "{}",
         "name": "epoch_time",
         "type": "\"long\""
        },
        {
         "metadata": "{}",
         "name": "years_since_release",
         "type": "\"double\""
        },
        {
         "metadata": "{}",
         "name": "budget_numeric",
         "type": "\"double\""
        }
       ],
       "type": "table"
      }
     },
     "output_type": "display_data"
    }
   ],
   "source": [
    "transformedMoviesDf = moviesDf \\\n",
    "  .withColumn(\"epoch_time\", F.unix_timestamp(F.current_timestamp())) \\\n",
    "  .withColumn(\"years_since_release\", F.year(F.current_date()) - F.col(\"date_published\")) \\\n",
    "  .withColumn(\"budget_numeric\", F.regexp_replace(F.col(\"budget\"), r\"[\\$,€£]\", \"\").cast(\"double\")) \\\n",
    "  .dropna()\n",
    "\n",
    "display(transformedMoviesDf.take(10))"
   ]
  },
  {
   "cell_type": "markdown",
   "metadata": {
    "application/vnd.databricks.v1+cell": {
     "cellMetadata": {
      "byteLimit": 2048000,
      "rowLimit": 10000
     },
     "inputWidgets": {},
     "nuid": "18d1e437-12d6-41c0-a8f4-d430ae74431f",
     "showTitle": false,
     "tableResultSettingsMap": {},
     "title": ""
    }
   },
   "source": [
    "ratings.csv\n",
    "* Dodaj kolumnę z wartością czasu wykonania notatnika w formacie epoch\n",
    "* Dla każdego z poniższych wyliczeń nie bierz pod uwagę `nulls` \n",
    "* Kto daje lepsze oceny chłopcy czy dziewczyny dla całego setu\n",
    "* Dla jednej z kolumn zmień typ danych do `long` "
   ]
  },
  {
   "cell_type": "code",
   "execution_count": 0,
   "metadata": {
    "application/vnd.databricks.v1+cell": {
     "cellMetadata": {
      "byteLimit": 2048000,
      "rowLimit": 10000
     },
     "inputWidgets": {},
     "nuid": "75c22c14-a54e-4727-b2ad-f8b631f2b541",
     "showTitle": false,
     "tableResultSettingsMap": {},
     "title": ""
    }
   },
   "outputs": [],
   "source": [
    "filePath = \"dbfs:/FileStore/tables/Files/ratings.csv\"\n",
    "ratingsDf = spark.read.format(\"csv\") \\\n",
    "              .option(\"header\",\"true\") \\\n",
    "              .option(\"inferSchema\",\"true\") \\\n",
    "              .load(filePath)\n",
    "\n"
   ]
  },
  {
   "cell_type": "code",
   "execution_count": 0,
   "metadata": {
    "application/vnd.databricks.v1+cell": {
     "cellMetadata": {
      "byteLimit": 2048000,
      "rowLimit": 10000
     },
     "inputWidgets": {},
     "nuid": "58ccf3b0-c9f7-44c1-a86b-3781480336b9",
     "showTitle": false,
     "tableResultSettingsMap": {},
     "title": ""
    }
   },
   "outputs": [
    {
     "output_type": "display_data",
     "data": {
      "text/html": [
       "<style scoped>\n",
       "  .table-result-container {\n",
       "    max-height: 300px;\n",
       "    overflow: auto;\n",
       "  }\n",
       "  table, th, td {\n",
       "    border: 1px solid black;\n",
       "    border-collapse: collapse;\n",
       "  }\n",
       "  th, td {\n",
       "    padding: 5px;\n",
       "  }\n",
       "  th {\n",
       "    text-align: left;\n",
       "  }\n",
       "</style><div class='table-result-container'><table class='table-result'><thead style='background-color: white'><tr><th>higher_rating</th><th>count</th></tr></thead><tbody><tr><td>Equal</td><td>1948</td></tr><tr><td>Female</td><td>10959</td></tr><tr><td>Male</td><td>4081</td></tr></tbody></table></div>"
      ]
     },
     "metadata": {
      "application/vnd.databricks.v1+output": {
       "addedWidgets": {},
       "aggData": [],
       "aggError": "",
       "aggOverflow": false,
       "aggSchema": [],
       "aggSeriesLimitReached": false,
       "aggType": "",
       "arguments": {},
       "columnCustomDisplayInfos": {},
       "data": [
        [
         "Equal",
         1948
        ],
        [
         "Female",
         10959
        ],
        [
         "Male",
         4081
        ]
       ],
       "datasetInfos": [],
       "dbfsResultPath": null,
       "isJsonSchema": true,
       "metadata": {},
       "overflow": false,
       "plotOptions": {
        "customPlotOptions": {},
        "displayType": "table",
        "pivotAggregation": null,
        "pivotColumns": null,
        "xColumns": null,
        "yColumns": null
       },
       "removedWidgets": [],
       "schema": [
        {
         "metadata": "{}",
         "name": "higher_rating",
         "type": "\"string\""
        },
        {
         "metadata": "{}",
         "name": "count",
         "type": "\"long\""
        }
       ],
       "type": "table"
      }
     },
     "output_type": "display_data"
    }
   ],
   "source": [
    "transformedRatingsDf = ratingsDf \\\n",
    "  .withColumn(\"epoch_time\", F.unix_timestamp(F.current_timestamp())) \\\n",
    "  .dropna() \\\n",
    "  .withColumn(\"total_votes\", F.col(\"total_votes\").cast(\"long\")) \\\n",
    "  .withColumn(\n",
    "    \"higher_rating\",\n",
    "    F.when(F.col(\"females_allages_avg_vote\") > F.col(\"males_allages_avg_vote\"), \"Female\")\n",
    "     .when(F.col(\"males_allages_avg_vote\") > F.col(\"females_allages_avg_vote\"), \"Male\")\n",
    "     .otherwise(\"Equal\")\n",
    "  ) \\\n",
    "  .groupBy(\"higher_rating\") \\\n",
    "  .count()\n",
    "  \n",
    "display(transformedRatingsDf)\n"
   ]
  }
 ],
 "metadata": {
  "application/vnd.databricks.v1+notebook": {
   "computePreferences": null,
   "dashboards": [],
   "environmentMetadata": null,
   "inputWidgetPreferences": null,
   "language": "python",
   "notebookMetadata": {
    "pythonIndentUnit": 2
   },
   "notebookName": "lab_3",
   "widgets": {}
  }
 },
 "nbformat": 4,
 "nbformat_minor": 0
}